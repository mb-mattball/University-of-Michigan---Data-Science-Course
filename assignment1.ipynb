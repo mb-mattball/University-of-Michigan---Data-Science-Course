{
 "cells": [
  {
   "cell_type": "markdown",
   "metadata": {
    "deletable": false,
    "editable": false,
    "etc_identifier": "242a3605-5bda-4e1f-beef-04a0173d3f41",
    "nbgrader": {
     "cell_type": "markdown",
     "checksum": "56ded12c208a4e3c8f6e0d50ef6227fa",
     "grade": false,
     "grade_id": "cell-fa48e7f1b94baa5b",
     "locked": true,
     "schema_version": 3,
     "solution": false
    }
   },
   "source": [
    "# Assignment 1\n",
    "\n",
    "For this assignment you are welcomed to use other regex resources such a regex \"cheat sheets\" you find on the web."
   ]
  },
  {
   "cell_type": "markdown",
   "metadata": {
    "deletable": false,
    "editable": false,
    "nbgrader": {
     "cell_type": "markdown",
     "checksum": "d17f561e3c6c08092810b982d085f5be",
     "grade": false,
     "grade_id": "cell-d4da7eb9acee2a6d",
     "locked": true,
     "schema_version": 3,
     "solution": false
    }
   },
   "source": [
    "Before start working on the problems, here is a small example to help you understand how to write your own answers. In short, the solution should be written within the function body given, and the final result should be returned. Then the autograder will try to call the function and validate your returned result accordingly. "
   ]
  },
  {
   "cell_type": "code",
   "execution_count": null,
   "metadata": {
    "deletable": false,
    "editable": false,
    "nbgrader": {
     "cell_type": "code",
     "checksum": "7eeb5e7d0f0e0137caed9f3b5cb925b1",
     "grade": false,
     "grade_id": "cell-4a96535829224b3f",
     "locked": true,
     "schema_version": 3,
     "solution": false
    }
   },
   "outputs": [],
   "source": [
    "def example_word_count():\n",
    "    # This example question requires counting words in the example_string below.\n",
    "    example_string = \"Amy is 5 years old\"\n",
    "    \n",
    "    # YOUR CODE HERE.\n",
    "    # You should write your solution here, and return your result, you can comment out or delete the\n",
    "    # NotImplementedError below.\n",
    "    result = example_string.split(\" \")\n",
    "    return len(result)\n",
    "\n",
    "    #raise NotImplementedError()"
   ]
  },
  {
   "cell_type": "markdown",
   "metadata": {},
   "source": [
    "## Part A\n",
    "\n",
    "Find a list of all of all of the names in the following string using regex."
   ]
  },
  {
   "cell_type": "code",
   "execution_count": 1,
   "metadata": {
    "deletable": false,
    "nbgrader": {
     "cell_type": "code",
     "checksum": "29bc8c161c0e246c1e3ef4820cc164f7",
     "grade": false,
     "grade_id": "names",
     "locked": false,
     "schema_version": 3,
     "solution": true
    }
   },
   "outputs": [],
   "source": [
    "import re\n",
    "def names():\n",
    "    simple_string = \"\"\"Amy is 5 years old, and her sister Mary is 2 years old. \n",
    "    Ruth and Peter, their parents, have 3 kids.\"\"\"\n",
    "\n",
    "    # YOUR CODE HERE\n",
    "    pattern = \"[A-Z][\\w]*\"\n",
    "    return re.findall(pattern,simple_string)\n",
    "    "
   ]
  },
  {
   "cell_type": "code",
   "execution_count": 2,
   "metadata": {
    "deletable": false,
    "editable": false,
    "nbgrader": {
     "cell_type": "code",
     "checksum": "ed5c09ac57f7d98130d5abc557f6d6c4",
     "grade": true,
     "grade_id": "correct_names",
     "locked": false,
     "points": 1,
     "schema_version": 3,
     "solution": false
    }
   },
   "outputs": [],
   "source": [
    "assert len(names()) == 4, \"There are four names in the simple_string\"\n"
   ]
  },
  {
   "cell_type": "code",
   "execution_count": 8,
   "metadata": {},
   "outputs": [],
   "source": [
    "#pattern = \"[A-Z][\\w]*\"\n",
    "#simple_string = \"\"\"Amy is 5 years old, and her sister Mary is 2 years old. \n",
    "#    Ruth and Peter, their parents, have 3 kids.\"\"\""
   ]
  },
  {
   "cell_type": "code",
   "execution_count": 9,
   "metadata": {},
   "outputs": [
    {
     "data": {
      "text/plain": [
       "['Amy', 'Mary', 'Ruth', 'Peter']"
      ]
     },
     "execution_count": 9,
     "metadata": {},
     "output_type": "execute_result"
    }
   ],
   "source": [
    "#re.findall(pattern, simple_string)"
   ]
  },
  {
   "cell_type": "code",
   "execution_count": 10,
   "metadata": {},
   "outputs": [
    {
     "data": {
      "text/plain": [
       "['Amy', 'Mary', 'Ruth', 'Peter']"
      ]
     },
     "execution_count": 10,
     "metadata": {},
     "output_type": "execute_result"
    }
   ],
   "source": [
    "#names()"
   ]
  },
  {
   "cell_type": "markdown",
   "metadata": {
    "deletable": false,
    "editable": false,
    "nbgrader": {
     "cell_type": "markdown",
     "checksum": "22f18c5538beb4d2661bcbae651c6458",
     "grade": false,
     "grade_id": "cell-ed64e3464ddd7ba7",
     "locked": true,
     "schema_version": 3,
     "solution": false
    }
   },
   "source": [
    "## Part B\n",
    "\n",
    "The dataset file in [assets/grades.txt](assets/grades.txt) contains a line separated list of people with their grade in a class. Create a regex to generate a list of just those students who received a B in the course."
   ]
  },
  {
   "cell_type": "code",
   "execution_count": 14,
   "metadata": {
    "deletable": false,
    "nbgrader": {
     "cell_type": "code",
     "checksum": "e977a1df674e9fa684e6d172aec92824",
     "grade": false,
     "grade_id": "grades",
     "locked": false,
     "schema_version": 3,
     "solution": true
    }
   },
   "outputs": [],
   "source": [
    "import re\n",
    "def grades():\n",
    "    with open (\"assets/grades.txt\", \"r\") as file:\n",
    "        grades = file.read()\n",
    "\n",
    "    # YOUR CODE HERE\n",
    "    name_pattern = \"(.*):\\sB\"\n",
    "    return re.findall(name_pattern, grades)"
   ]
  },
  {
   "cell_type": "code",
   "execution_count": 15,
   "metadata": {
    "deletable": false,
    "editable": false,
    "nbgrader": {
     "cell_type": "code",
     "checksum": "e0bcc452d60fc45259e58d3116d25477",
     "grade": true,
     "grade_id": "correct_grades",
     "locked": false,
     "points": 1,
     "schema_version": 3,
     "solution": false
    }
   },
   "outputs": [],
   "source": [
    "assert len(grades()) == 16\n"
   ]
  },
  {
   "cell_type": "code",
   "execution_count": 13,
   "metadata": {},
   "outputs": [
    {
     "data": {
      "text/plain": [
       "'Ronald Mayr: A\\nBell Kassulke: B\\nJacqueline Rupp: A \\nAlexander Zeller: C\\nValentina Denk: C \\nSimon Loidl: B \\nElias Jovanovic: B \\nStefanie Weninger: A \\nFabian Peer: C \\nHakim Botros: B\\nEmilie Lorentsen: B\\nHerman Karlsen: C\\nNathalie Delacruz: C\\nCasey Hartman: C\\nLily Walker : A\\nGerard Wang: C\\nTony Mcdowell: C\\nJake Wood: B\\nFatemeh Akhtar: B\\nKim Weston: B\\nNicholas Beatty: A\\nKirsten Williams: C\\nVaishali Surana: C\\nCoby Mccormack: C\\nYasmin Dar: B\\nRomy Donnelly: A\\nViswamitra Upandhye: B\\nKendrick Hilpert: A\\nKillian Kaufman: B\\nElwood Page: B\\nMukti Patel: A\\nEmily Lesch: C\\nElodie Booker: B\\nJedd Kim: A\\nAnnabel Davies: A\\nAdnan Chen: B\\nJonathan Berg: C\\nHank Spinka: B\\nAgnes Schneider: C\\nKimberly Green: A\\nLola-Rose Coates: C\\nRose Christiansen: C\\nShirley Hintz: C\\nHannah Bayer: B'"
      ]
     },
     "execution_count": 13,
     "metadata": {},
     "output_type": "execute_result"
    }
   ],
   "source": [
    "#with open (\"assets/grades.txt\", \"r\") as file:\n",
    "#        grades = file.read()\n",
    "#grades"
   ]
  },
  {
   "cell_type": "code",
   "execution_count": 116,
   "metadata": {},
   "outputs": [],
   "source": [
    "# I've worked out how to find the grade ...\n",
    "# this seem to find the colon with :\n",
    "# then find the blank space with \\s\n",
    "# then get everything after these with (.*)"
   ]
  },
  {
   "cell_type": "code",
   "execution_count": 100,
   "metadata": {},
   "outputs": [
    {
     "data": {
      "text/plain": [
       "['A',\n",
       " 'B',\n",
       " 'A ',\n",
       " 'C',\n",
       " 'C ',\n",
       " 'B ',\n",
       " 'B ',\n",
       " 'A ',\n",
       " 'C ',\n",
       " 'B',\n",
       " 'B',\n",
       " 'C',\n",
       " 'C',\n",
       " 'C',\n",
       " 'A',\n",
       " 'C',\n",
       " 'C',\n",
       " 'B',\n",
       " 'B',\n",
       " 'B',\n",
       " 'A',\n",
       " 'C',\n",
       " 'C',\n",
       " 'C',\n",
       " 'B',\n",
       " 'A',\n",
       " 'B',\n",
       " 'A',\n",
       " 'B',\n",
       " 'B',\n",
       " 'A',\n",
       " 'C',\n",
       " 'B',\n",
       " 'A',\n",
       " 'A',\n",
       " 'B',\n",
       " 'C',\n",
       " 'B',\n",
       " 'C',\n",
       " 'A',\n",
       " 'C',\n",
       " 'C',\n",
       " 'C',\n",
       " 'B']"
      ]
     },
     "execution_count": 100,
     "metadata": {},
     "output_type": "execute_result"
    }
   ],
   "source": [
    "#grade_pattern = \":\\s(.*)\"\n",
    "\n",
    "#re.findall(grade_pattern, grades)"
   ]
  },
  {
   "cell_type": "code",
   "execution_count": 102,
   "metadata": {},
   "outputs": [],
   "source": [
    "# Now how to find the name\n",
    "# here we know that the colon is :\n",
    "# then just ask for everything in front of that\n",
    "# the full stop find you anything on a new line "
   ]
  },
  {
   "cell_type": "code",
   "execution_count": 117,
   "metadata": {},
   "outputs": [
    {
     "data": {
      "text/plain": [
       "['Ronald Mayr',\n",
       " 'Bell Kassulke',\n",
       " 'Jacqueline Rupp',\n",
       " 'Alexander Zeller',\n",
       " 'Valentina Denk',\n",
       " 'Simon Loidl',\n",
       " 'Elias Jovanovic',\n",
       " 'Stefanie Weninger',\n",
       " 'Fabian Peer',\n",
       " 'Hakim Botros',\n",
       " 'Emilie Lorentsen',\n",
       " 'Herman Karlsen',\n",
       " 'Nathalie Delacruz',\n",
       " 'Casey Hartman',\n",
       " 'Lily Walker ',\n",
       " 'Gerard Wang',\n",
       " 'Tony Mcdowell',\n",
       " 'Jake Wood',\n",
       " 'Fatemeh Akhtar',\n",
       " 'Kim Weston',\n",
       " 'Nicholas Beatty',\n",
       " 'Kirsten Williams',\n",
       " 'Vaishali Surana',\n",
       " 'Coby Mccormack',\n",
       " 'Yasmin Dar',\n",
       " 'Romy Donnelly',\n",
       " 'Viswamitra Upandhye',\n",
       " 'Kendrick Hilpert',\n",
       " 'Killian Kaufman',\n",
       " 'Elwood Page',\n",
       " 'Mukti Patel',\n",
       " 'Emily Lesch',\n",
       " 'Elodie Booker',\n",
       " 'Jedd Kim',\n",
       " 'Annabel Davies',\n",
       " 'Adnan Chen',\n",
       " 'Jonathan Berg',\n",
       " 'Hank Spinka',\n",
       " 'Agnes Schneider',\n",
       " 'Kimberly Green',\n",
       " 'Lola-Rose Coates',\n",
       " 'Rose Christiansen',\n",
       " 'Shirley Hintz',\n",
       " 'Hannah Bayer']"
      ]
     },
     "execution_count": 117,
     "metadata": {},
     "output_type": "execute_result"
    }
   ],
   "source": [
    "#name_pattern = \"(.*):\"\n",
    "#re.findall(name_pattern, grades)"
   ]
  },
  {
   "cell_type": "code",
   "execution_count": 119,
   "metadata": {},
   "outputs": [],
   "source": [
    "# I was trying to find a clever answer, but it's just to find the names to the left of ': B'"
   ]
  },
  {
   "cell_type": "code",
   "execution_count": 118,
   "metadata": {},
   "outputs": [
    {
     "data": {
      "text/plain": [
       "['Bell Kassulke',\n",
       " 'Simon Loidl',\n",
       " 'Elias Jovanovic',\n",
       " 'Hakim Botros',\n",
       " 'Emilie Lorentsen',\n",
       " 'Jake Wood',\n",
       " 'Fatemeh Akhtar',\n",
       " 'Kim Weston',\n",
       " 'Yasmin Dar',\n",
       " 'Viswamitra Upandhye',\n",
       " 'Killian Kaufman',\n",
       " 'Elwood Page',\n",
       " 'Elodie Booker',\n",
       " 'Adnan Chen',\n",
       " 'Hank Spinka',\n",
       " 'Hannah Bayer']"
      ]
     },
     "execution_count": 118,
     "metadata": {},
     "output_type": "execute_result"
    }
   ],
   "source": [
    "#name_pattern = \"(.*):\\sB\"\n",
    "#re.findall(name_pattern, grades)"
   ]
  },
  {
   "cell_type": "markdown",
   "metadata": {
    "deletable": false,
    "editable": false,
    "nbgrader": {
     "cell_type": "markdown",
     "checksum": "4609d4ee034af5059e666df2740bdeb2",
     "grade": false,
     "grade_id": "cell-e253518e37d33f0c",
     "locked": true,
     "schema_version": 3,
     "solution": false
    }
   },
   "source": [
    "## Part C\n",
    "\n",
    "Consider the standard web log file in [assets/logdata.txt](assets/logdata.txt). This file records the access a user makes when visiting a web page (like this one!). Each line of the log has the following items:\n",
    "\n",
    "* a host (e.g., '146.204.224.152') \n",
    "* a user_name (e.g., 'feest6811' **note: sometimes the user name is missing! In this case, use '-' as the value for the username.**)\n",
    "* the time a request was made (e.g., '21/Jun/2019:15:45:24 -0700')\n",
    "* the post request type (e.g., 'POST /incentivize HTTP/1.1' **note: not everything is a POST!**)\n",
    "\n",
    "Your task is to convert this into a list of dictionaries, where each dictionary looks like the following:\n",
    "```\n",
    "example_dict = {\"host\":\"146.204.224.152\", \n",
    "                \"user_name\":\"feest6811\", \n",
    "                \"time\":\"21/Jun/2019:15:45:24 -0700\",\n",
    "                \"request\":\"POST /incentivize HTTP/1.1\"}\n",
    "```"
   ]
  },
  {
   "cell_type": "code",
   "execution_count": 178,
   "metadata": {
    "deletable": false,
    "nbgrader": {
     "cell_type": "code",
     "checksum": "c04017e59e48b2f4c77bf425ed84b356",
     "grade": false,
     "grade_id": "logs",
     "locked": false,
     "schema_version": 3,
     "solution": true
    }
   },
   "outputs": [],
   "source": [
    "import re\n",
    "def logs():\n",
    "    with open(\"assets/logdata.txt\", \"r\") as file:\n",
    "        logdata = file.read()\n",
    "    \n",
    "    # YOUR CODE HERE\n",
    "    pattern = \"\"\"\n",
    "    (?P<host>.*) #get everything \n",
    "    (\\ -\\ ) # up to the first space dash and space\n",
    "    (?P<user_name>.*) # then get everything \n",
    "    (\\s\\[) # then there is a square bracket\n",
    "    (?P<time>.*) # then get everything up to\n",
    "    (\\]\\s\\\") # up to the square bracket, space and speech marks\n",
    "    (?P<request>.*) # then everything \n",
    "    (\") # then a final speech mark\n",
    "    \"\"\"\n",
    "    # YOUR CODE HERE\n",
    "    result = []\n",
    "    for item in re.finditer(pattern, logdata, re.VERBOSE):\n",
    "        result.append(item.groupdict())\n",
    "    return result"
   ]
  },
  {
   "cell_type": "code",
   "execution_count": 179,
   "metadata": {
    "deletable": false,
    "editable": false,
    "nbgrader": {
     "cell_type": "code",
     "checksum": "1fd5f2cca190d37c667fb189352540d3",
     "grade": true,
     "grade_id": "cell-correct_logs",
     "locked": true,
     "points": 1,
     "schema_version": 3,
     "solution": false
    }
   },
   "outputs": [],
   "source": [
    "assert len(logs()) == 979\n",
    "\n",
    "one_item={'host': '146.204.224.152',\n",
    "  'user_name': 'feest6811',\n",
    "  'time': '21/Jun/2019:15:45:24 -0700',\n",
    "  'request': 'POST /incentivize HTTP/1.1'}\n",
    "assert one_item in logs(), \"Sorry, this item should be in the log results, check your formating\"\n"
   ]
  },
  {
   "cell_type": "code",
   "execution_count": 18,
   "metadata": {},
   "outputs": [],
   "source": [
    "# Open the data"
   ]
  },
  {
   "cell_type": "code",
   "execution_count": 21,
   "metadata": {},
   "outputs": [],
   "source": [
    "#with open(\"assets/logdata.txt\", \"r\") as file:\n",
    " #       logdata = file.read()"
   ]
  },
  {
   "cell_type": "code",
   "execution_count": 71,
   "metadata": {},
   "outputs": [],
   "source": [
    "#logdata[:10000]"
   ]
  },
  {
   "cell_type": "code",
   "execution_count": 23,
   "metadata": {},
   "outputs": [],
   "source": [
    "# lets just try and find the first set of numbers\n",
    "# so we want everything prior to the first blank space and dash"
   ]
  },
  {
   "cell_type": "code",
   "execution_count": 48,
   "metadata": {},
   "outputs": [],
   "source": [
    "#first_pattern = \"(.*) - \"\n",
    "#re.findall(first_pattern, logdata)"
   ]
  },
  {
   "cell_type": "code",
   "execution_count": 47,
   "metadata": {},
   "outputs": [],
   "source": [
    "#second_pattern = \"-\\s(.*)\\s\\[\"\n",
    "#re.findall(second_pattern,logdata)"
   ]
  },
  {
   "cell_type": "code",
   "execution_count": 28,
   "metadata": {},
   "outputs": [],
   "source": [
    "# \\\\ makes sure that the regex can read the special characters, the square brackets\n",
    "# then you're saying you want everything in between the two square brackets "
   ]
  },
  {
   "cell_type": "code",
   "execution_count": 46,
   "metadata": {},
   "outputs": [],
   "source": [
    "#third_pattern = \"\\\\[(.*)]\"\n",
    "#re.findall(third_pattern,logdata)"
   ]
  },
  {
   "cell_type": "code",
   "execution_count": 45,
   "metadata": {},
   "outputs": [],
   "source": [
    "#fourth_pattern = r'\"(.*?)\"'\n",
    "#re.findall(fourth_pattern,logdata)"
   ]
  },
  {
   "cell_type": "code",
   "execution_count": 96,
   "metadata": {},
   "outputs": [
    {
     "data": {
      "text/plain": [
       "'\\nfirst_pattern = \"(.*) - \"\\nhost_list = re.findall(first_pattern, logdata)\\nprint(len(host_list))\\n\\nsecond_pattern = \"-\\\\s(.*)\\\\s\\\\[\"\\nuser_name_list = re.findall(second_pattern, logdata)\\nprint(len(user_name_list))\\n\\nthird_pattern = \"\\\\[(.*)]\"\\ntime_list = re.findall(third_pattern, logdata)\\nprint(len(time_list))\\n    \\nfourth_pattern = r\\'\"(.*?)\"\\'\\nrequest_list = re.findall(fourth_pattern, logdata)\\nprint(len(request_list))\\n\\n\\n# join these together into a generator\\ngenerator_of_dicts = (\\n    {\"host\": host, \"user_name\": user_name, \"time\": time, \"request\": request}\\n    for host, user_name, time, request in zip(host_list, user_name_list, time_list, request_list)\\n)\\n\\n# convert this into a list\\nmy_dictionary = list(generator_of_dicts)\\nmy_dictionary\\n'"
      ]
     },
     "execution_count": 96,
     "metadata": {},
     "output_type": "execute_result"
    }
   ],
   "source": [
    "\"\"\"\n",
    "first_pattern = \"(.*) - \"\n",
    "host_list = re.findall(first_pattern, logdata)\n",
    "print(len(host_list))\n",
    "\n",
    "second_pattern = \"-\\s(.*)\\s\\[\"\n",
    "user_name_list = re.findall(second_pattern, logdata)\n",
    "print(len(user_name_list))\n",
    "\n",
    "third_pattern = \"\\\\[(.*)]\"\n",
    "time_list = re.findall(third_pattern, logdata)\n",
    "print(len(time_list))\n",
    "    \n",
    "fourth_pattern = r'\"(.*?)\"'\n",
    "request_list = re.findall(fourth_pattern, logdata)\n",
    "print(len(request_list))\n",
    "\n",
    "\n",
    "# join these together into a generator\n",
    "generator_of_dicts = (\n",
    "    {\"host\": host, \"user_name\": user_name, \"time\": time, \"request\": request}\n",
    "    for host, user_name, time, request in zip(host_list, user_name_list, time_list, request_list)\n",
    ")\n",
    "\n",
    "# convert this into a list\n",
    "my_dictionary = list(generator_of_dicts)\n",
    "my_dictionary\n",
    "\"\"\""
   ]
  },
  {
   "cell_type": "code",
   "execution_count": 97,
   "metadata": {},
   "outputs": [
    {
     "data": {
      "text/plain": [
       "\"\\n# both of these need to be correct to pass the test - which they are:\\nprint(len(logs()) ==979)\\n\\none_item={'host': '146.204.224.152',\\n  'user_name': 'feest6811',\\n  'time': '21/Jun/2019:15:45:24 -0700',\\n  'request': 'POST /incentivize HTTP/1.1'}\\n\\nprint(one_item in logs())\\n\""
      ]
     },
     "execution_count": 97,
     "metadata": {},
     "output_type": "execute_result"
    }
   ],
   "source": [
    "\"\"\"\n",
    "# both of these need to be correct to pass the test - which they are:\n",
    "print(len(logs()) ==979)\n",
    "\n",
    "one_item={'host': '146.204.224.152',\n",
    "  'user_name': 'feest6811',\n",
    "  'time': '21/Jun/2019:15:45:24 -0700',\n",
    "  'request': 'POST /incentivize HTTP/1.1'}\n",
    "\n",
    "print(one_item in logs())\n",
    "\"\"\""
   ]
  },
  {
   "cell_type": "code",
   "execution_count": 171,
   "metadata": {},
   "outputs": [
    {
     "data": {
      "text/plain": [
       "'146.204.224.152 - feest6811 [21/Jun/2019:15:45:24 -0700] \"POST /incentivize HTTP/1.1\" 302 4622\\n197.109.77.178 - kertzmann3129 [21/Jun/2019:15:45:25 -0700] \"DELETE /virtual/solutions/target/web+services HTTP/2.0\" 203 26554\\n156.127.178.177 - okuneva5222 [21/Jun/2019:15:45:27 -0700] \"DELETE /interactive/transparent/niches/revolutionize HTTP/1.1\" 416 14701\\n100.32.205.59 - ortiz8891 [21/Jun/2019:15:45:28 -0700] \"PATCH /architectures HTTP/1.0\" 204 6048\\n168.95.156.240 - stark2413 [21/Jun/2019:15:45:31 -0700] \"GET /engage HTTP/2.0\" 201 9645\\n71.172.239.195 - dooley1853 [21/Jun/2019:15:45:32 -0700] \"PUT /cutting-edge HTTP/2.0\" 406 24498\\n180.95.121.94 - mohr6893 [21/Jun/2019:15:45:34 -0700] \"PATCH /extensible/reinvent HTTP/1.1\" 201 27330\\n144.23.247.108 - auer7552 [21/Jun/2019:15:45:35 -0700] \"POST /extensible/infrastructures/one-to-one/enterprise HTTP/1.1\" 100 22921\\n2.179.103.97 - lind8584 [21/Jun/2019:15:45:36 -0700] \"POST /grow/front-end/e-commerce/robust HTTP/2.0\" 304 14641\\n241.114.184.133 - t'"
      ]
     },
     "execution_count": 171,
     "metadata": {},
     "output_type": "execute_result"
    }
   ],
   "source": [
    "with open(\"assets/logdata.txt\", \"r\") as file:\n",
    "       logdata = file.read()\n",
    "logdata[:1000]"
   ]
  },
  {
   "cell_type": "code",
   "execution_count": 181,
   "metadata": {},
   "outputs": [],
   "source": [
    "# My technique worked, but they use another way of getting the results\n",
    "# I will try this to practice my regex\n",
    "\n",
    "\n",
    "\n",
    "#pattern = \"\"\"\n",
    "#(?P<host>.*) #get everything \n",
    "#(\\ -\\ ) # up to the first space dash and space\n",
    "#(?P<user_name>.*) # then get everything \n",
    "#(\\s\\[) # then there is a square bracket\n",
    "#(?P<time>.*) # then get everything up to\n",
    "#(\\]\\s\\\") # up to the square bracket, space and speech marks\n",
    "#(?P<request>.*) # then everything \n",
    "#(\") # then a final speech mark\n",
    "#\"\"\"\n",
    "#store = []\n",
    "#for item in re.finditer(pattern, logdata, re.VERBOSE):\n",
    "#    print(item.groupdict())\n",
    "#    store.append(item)"
   ]
  }
 ],
 "metadata": {
  "etc_active_cell": 32,
  "kernelspec": {
   "display_name": "Python 3 (ipykernel)",
   "language": "python",
   "name": "python3"
  },
  "language_info": {
   "codemirror_mode": {
    "name": "ipython",
    "version": 3
   },
   "file_extension": ".py",
   "mimetype": "text/x-python",
   "name": "python",
   "nbconvert_exporter": "python",
   "pygments_lexer": "ipython3",
   "version": "3.9.13"
  }
 },
 "nbformat": 4,
 "nbformat_minor": 4
}
